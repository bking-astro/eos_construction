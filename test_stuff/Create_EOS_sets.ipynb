{
 "cells": [
  {
   "cell_type": "code",
   "execution_count": 16,
   "metadata": {},
   "outputs": [],
   "source": [
    "# In this notebook I will make the EOS sets used in the project.\n",
    "import numpy as np\n",
    "import pandas as pd\n",
    "import matplotlib.pyplot as plt"
   ]
  },
  {
   "cell_type": "code",
   "execution_count": 3,
   "metadata": {},
   "outputs": [],
   "source": [
    "import EOS_extension # the python script I wrote to extend the EOS"
   ]
  },
  {
   "cell_type": "code",
   "execution_count": 22,
   "metadata": {},
   "outputs": [
    {
     "name": "stdout",
     "output_type": "stream",
     "text": [
      "(1650, 3)\n"
     ]
    }
   ],
   "source": [
    "EOS_small = pd.read_table('data/EOSCEFTVE1.dat', header=None).to_numpy() #the low density EOS we are extending\n",
    "print(EOS_small.shape)"
   ]
  },
  {
   "cell_type": "markdown",
   "metadata": {},
   "source": [
    "We will create several sets of each extension type by varrying the number of segments of density we sample. We will create 1000 EOSs for each. For the speed of sound extension we will do 5 segments (cs5) and 10 segments (cs10). For the polytropic extensions we will make sets of 3 segments (poly3) and 5 segments (poly5)."
   ]
  },
  {
   "cell_type": "code",
   "execution_count": 38,
   "metadata": {},
   "outputs": [],
   "source": [
    "#cs5\n",
    "nsamp = 5\n",
    "\n",
    "cs5_test = EOS_extension.extend(EOS_small, nsamp, ext_type='cs')\n",
    "np.save('data/cs5test',cs5_test)"
   ]
  },
  {
   "cell_type": "code",
   "execution_count": 14,
   "metadata": {},
   "outputs": [
    {
     "data": {
      "text/plain": [
       "Text(0, 0.5, 'Pressure (MeV/fm^3)')"
      ]
     },
     "execution_count": 14,
     "metadata": {},
     "output_type": "execute_result"
    },
    {
     "data": {
      "image/png": "[encoded data removed]",
      "text/plain": [
       "<Figure size 432x288 with 1 Axes>"
      ]
     },
     "metadata": {
      "needs_background": "light"
     },
     "output_type": "display_data"
    }
   ],
   "source": [
    "plt.plot(cs5_test[:,0], cs5_test[:,2], label='Linear in c_s')\n",
    "plt.xlabel('Density (MeV/fm^3)')\n",
    "plt.ylabel('Pressure (MeV/fm^3)')"
   ]
  },
  {
   "cell_type": "code",
   "execution_count": 29,
   "metadata": {},
   "outputs": [],
   "source": [
    "nsim = 1000\n",
    "nsamp = 5\n",
    "shape_EOS = (cs5_test.shape[0], cs5_test.shape[1], nsim)\n",
    "\n",
    "cs5 = np.zeros(shape_EOS)\n",
    "\n",
    "for i in range(nsim):\n",
    "    cs5[:,:,i] = EOS_extension.extend(EOS_small, nsamp, ext_type='cs')\n",
    "    \n",
    "np.save('data/cs5EOS',cs5)"
   ]
  },
  {
   "cell_type": "code",
   "execution_count": 30,
   "metadata": {},
   "outputs": [],
   "source": [
    "nsamp = 10\n",
    "cs10 = np.zeros(shape_EOS)\n",
    "\n",
    "for i in range(nsim):\n",
    "    cs10[:,:,i] = EOS_extension.extend(EOS_small, nsamp, ext_type='cs')\n",
    "    \n",
    "np.save('data/cs10EOS',cs10)"
   ]
  },
  {
   "cell_type": "code",
   "execution_count": 36,
   "metadata": {},
   "outputs": [],
   "source": [
    "nsamp = 3\n",
    "poly3 = np.zeros(shape_EOS)\n",
    "\n",
    "for i in range(nsim):\n",
    "    poly3[:,:,i] , _  = EOS_extension.extend(EOS_small, nsamp, ext_type='polytrop')\n",
    "    \n",
    "np.save('data/poly3EOS',poly3)"
   ]
  },
  {
   "cell_type": "code",
   "execution_count": 37,
   "metadata": {},
   "outputs": [],
   "source": [
    "nsamp = 5\n",
    "poly5 = np.zeros(shape_EOS)\n",
    "\n",
    "for i in range(nsim):\n",
    "    poly5[:,:,i], _ = EOS_extension.extend(EOS_small, nsamp, ext_type='polytrop')\n",
    "    \n",
    "np.save('data/poly5EOS',poly5)"
   ]
  },
  {
   "cell_type": "code",
   "execution_count": null,
   "metadata": {},
   "outputs": [],
   "source": []
  }
 ],
 "metadata": {
  "kernelspec": {
   "display_name": "Python 3",
   "language": "python",
   "name": "python3"
  },
  "language_info": {
   "codemirror_mode": {
    "name": "ipython",
    "version": 3
   },
   "file_extension": ".py",
   "mimetype": "text/x-python",
   "name": "python",
   "nbconvert_exporter": "python",
   "pygments_lexer": "ipython3",
   "version": "3.8.5"
  }
 },
 "nbformat": 4,
 "nbformat_minor": 4
}
