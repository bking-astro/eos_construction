{
 "cells": [
  {
   "cell_type": "code",
   "execution_count": 1,
   "id": "0caf1bb0",
   "metadata": {},
   "outputs": [],
   "source": [
    "# This notebook is to make code to remove unstable branch of the MR curve. This is when the mass\n",
    "# is decreasing when the density is increasing.\n",
    "\n",
    "import matplotlib.pyplot as plt\n",
    "import pandas as pd\n",
    "import scipy.integrate\n",
    "import scipy.interpolate\n",
    "import numpy as np\n",
    "import scipy.stats as sts\n",
    "import test_TOVsolver"
   ]
  },
  {
   "cell_type": "code",
   "execution_count": 2,
   "id": "97f55a4d",
   "metadata": {},
   "outputs": [],
   "source": [
    "# we will test this on the 1k sim I ran already\n",
    "\n",
    "M_1k = np.loadtxt(\"../data/MRL1ksim_cs_M.dat\")\n",
    "R_1k = np.loadtxt(\"../data/MRL1ksim_cs_R.dat\")\n",
    "L_1k = np.loadtxt(\"../data/MRL1ksim_cs_L.dat\")"
   ]
  },
  {
   "cell_type": "code",
   "execution_count": 17,
   "id": "709dfb19",
   "metadata": {},
   "outputs": [
    {
     "data": {
      "text/plain": [
       "[<matplotlib.lines.Line2D at 0x248f70c8dc8>]"
      ]
     },
     "execution_count": 17,
     "metadata": {},
     "output_type": "execute_result"
    },
    {
     "data": {
      "image/png": "[encoded data removed]",
      "text/plain": [
       "<Figure size 432x288 with 1 Axes>"
      ]
     },
     "metadata": {
      "needs_background": "light"
     },
     "output_type": "display_data"
    }
   ],
   "source": [
    "# pick which sim\n",
    "j = 200\n",
    "\n",
    "# define size\n",
    "MRL_size = M_1k.shape[0]\n",
    "\n",
    "# initialize array for corrected mass values\n",
    "cor_M = np.zeros(MRL_size)\n",
    "cor_M[0] = M_1k[0,j]\n",
    "\n",
    "for i in range(MRL_size-1):\n",
    "    if M_1k[i+1,j] > M_1k[i,j]:\n",
    "        cor_M[i+1] = M_1k[i+1,j]\n",
    "    if M_1k[i+1,j] <= M_1k[i,j]:\n",
    "        cor_M[i+1] = cor_M[i]\n",
    "        \n",
    "plt.plot(R_1k[:,j], M_1k[:,j])\n",
    "plt.plot(R_1k[:,j], cor_M)"
   ]
  },
  {
   "cell_type": "code",
   "execution_count": 23,
   "id": "eb022ee1",
   "metadata": {},
   "outputs": [],
   "source": [
    "def remove_unstable(mass):\n",
    "    # define size\n",
    "    size = mass.shape[0]\n",
    "\n",
    "    # initialize array for corrected mass values\n",
    "    cor_M = np.zeros(size)\n",
    "    cor_M[0] = mass[0]\n",
    "\n",
    "    for i in range(size-1):\n",
    "        if mass[i+1] > mass[i]:\n",
    "            cor_M[i+1] = mass[i+1]\n",
    "        if mass[i+1] <= mass[i]:\n",
    "            cor_M[i+1] = cor_M[i]\n",
    "            \n",
    "    return cor_M"
   ]
  },
  {
   "cell_type": "code",
   "execution_count": 24,
   "id": "ca977a82",
   "metadata": {},
   "outputs": [
    {
     "data": {
      "text/plain": [
       "[<matplotlib.lines.Line2D at 0x248f8342bc8>]"
      ]
     },
     "execution_count": 24,
     "metadata": {},
     "output_type": "execute_result"
    },
    {
     "data": {
      "image/png": "[encoded data removed]",
      "text/plain": [
       "<Figure size 432x288 with 1 Axes>"
      ]
     },
     "metadata": {
      "needs_background": "light"
     },
     "output_type": "display_data"
    }
   ],
   "source": [
    "k = 200\n",
    "mass = M_1k[:,k]\n",
    "cor_mass = remove_unstable(mass)\n",
    "\n",
    "plt.plot(R_1k[:,j], mass)\n",
    "plt.plot(R_1k[:,j], cor_mass)"
   ]
  },
  {
   "cell_type": "code",
   "execution_count": null,
   "id": "b8dc4d76",
   "metadata": {},
   "outputs": [],
   "source": []
  }
 ],
 "metadata": {
  "kernelspec": {
   "display_name": "Python 3 (ipykernel)",
   "language": "python",
   "name": "python3"
  },
  "language_info": {
   "codemirror_mode": {
    "name": "ipython",
    "version": 3
   },
   "file_extension": ".py",
   "mimetype": "text/x-python",
   "name": "python",
   "nbconvert_exporter": "python",
   "pygments_lexer": "ipython3",
   "version": "3.7.4"
  }
 },
 "nbformat": 4,
 "nbformat_minor": 5
}
