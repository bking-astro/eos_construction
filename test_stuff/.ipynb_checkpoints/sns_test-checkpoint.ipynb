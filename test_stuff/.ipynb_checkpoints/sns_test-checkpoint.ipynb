{
 "cells": [
  {
   "cell_type": "code",
   "execution_count": 16,
   "metadata": {},
   "outputs": [],
   "source": [
    "import numpy as np\n",
    "import pandas as pd\n",
    "import seaborn as sns\n",
    "import scipy.stats as sts\n",
    "import scipy.integrate\n",
    "import scipy.interpolate\n",
    "import matplotlib.pyplot as plt\n",
    "\n",
    "import test_TOVsolver\n",
    "import EOS_extension_test"
   ]
  },
  {
   "cell_type": "code",
   "execution_count": 7,
   "metadata": {},
   "outputs": [],
   "source": [
    "EOS_small = pd.read_table('../data/EOSCEFTVE1.dat', header=None).to_numpy()\n",
    "\n",
    "# load in the big simulation we did\n",
    "\n",
    "M_1k = np.loadtxt(\"../data/MRL1ksim_cs_M.dat\")\n",
    "R_1k = np.loadtxt(\"../data/MRL1ksim_cs_R.dat\")\n",
    "L_1k = np.loadtxt(\"../data/MRL1ksim_cs_L.dat\")\n",
    "\n",
    "nsim = len(M_1k[0,:])\n",
    "size_MRL = len(M_1k[:,0])"
   ]
  },
  {
   "cell_type": "code",
   "execution_count": 39,
   "metadata": {},
   "outputs": [],
   "source": [
    "def remove_unstable(mass, radius, lamb):\n",
    "    # define size\n",
    "    size = mass.shape[0]\n",
    "\n",
    "    # initialize array for corrected mass values\n",
    "    num_del = 0\n",
    "    cor_M = np.zeros(size)\n",
    "    cor_M[0] = mass[0]\n",
    "\n",
    "    for i in range(size-1):\n",
    "        if mass[i+1] > cor_M[i]:\n",
    "            cor_M[i+1] = mass[i+1]\n",
    "        if mass[i+1] <= cor_M[i]:\n",
    "            cor_M[i+1] = cor_M[i]\n",
    "            num_del += 1\n",
    "    \n",
    "    clip_M = np.zeros(size-num_del)\n",
    "    clip_M[0] = cor_M[0]\n",
    "    clip_R = np.zeros(size-num_del)\n",
    "    clip_L = np.zeros(size-num_del)\n",
    "    j=0\n",
    "    \n",
    "    for i in range(size-1):\n",
    "        if cor_M[i+1] > cor_M[i]:\n",
    "            clip_M[j+1] = cor_M[i+1]\n",
    "            clip_R[j+1] = radius[i+1]\n",
    "            clip_L[j+1] = lamb[i+1]\n",
    "            j+=1\n",
    "            \n",
    "    return clip_M, clip_R, clip_L\n",
    "\n",
    "def strictly_increasing(array):\n",
    "    \n",
    "    size = len(array)\n",
    "    # initialize values\n",
    "    del_a = np.zeros(size-1)\n",
    "    strctly_up = False\n",
    "    \n",
    "    for i in range(size-1):\n",
    "        if array[i+1] > array[i]:\n",
    "            del_a[i] = 1\n",
    "        else:\n",
    "            del_a[i] = 0\n",
    "    if sum(del_a) == size-1:\n",
    "        strctly_up = True\n",
    "    \n",
    "    return strctly_up"
   ]
  },
  {
   "cell_type": "code",
   "execution_count": 60,
   "metadata": {},
   "outputs": [],
   "source": [
    "nsim = len(M_1k[0,:])\n",
    "size_MRL = len(M_1k[:,0])\n",
    "\n",
    "# define range of masses\n",
    "\n",
    "m_start, m_end = 1.1, 2.0\n",
    "size = int(1e2)\n",
    "ms = np.linspace(m_start, m_end, size)\n",
    "\n",
    "# run thru all sims, interpolate data, get (M,R) points\n",
    "\n",
    "rs = np.zeros((size,nsim))\n",
    "\n",
    "for i in range(nsim):\n",
    "    clip_M, clip_R, clip_L = remove_unstable(M_1k[:,i], R_1k[:,i], L_1k[:,i])\n",
    "    mr_func = scipy.interpolate.UnivariateSpline(clip_M, clip_R, k=4)\n",
    "    max_M = max(clip_M)\n",
    "    max_R = max(clip_R)\n",
    "    \n",
    "    for j in range(size):\n",
    "        if ms[j] > max_M:\n",
    "            rs[j,i] = rs[j-1,i]\n",
    "        else:    \n",
    "            rs[j,i] = mr_func(ms[j])\n"
   ]
  },
  {
   "cell_type": "code",
   "execution_count": 63,
   "metadata": {},
   "outputs": [
    {
     "data": {
      "text/plain": [
       "[<matplotlib.lines.Line2D at 0x2119903ad48>]"
      ]
     },
     "execution_count": 63,
     "metadata": {},
     "output_type": "execute_result"
    },
    {
     "data": {
      "image/png": "[encoded data removed]",
      "text/plain": [
       "<Figure size 432x288 with 1 Axes>"
      ]
     },
     "metadata": {
      "needs_background": "light"
     },
     "output_type": "display_data"
    }
   ],
   "source": [
    "i = 300\n",
    "plt.plot(ms[:], rs[:,i])"
   ]
  },
  {
   "cell_type": "code",
   "execution_count": null,
   "metadata": {},
   "outputs": [],
   "source": []
  }
 ],
 "metadata": {
  "kernelspec": {
   "display_name": "Python 3 (ipykernel)",
   "language": "python",
   "name": "python3"
  },
  "language_info": {
   "codemirror_mode": {
    "name": "ipython",
    "version": 3
   },
   "file_extension": ".py",
   "mimetype": "text/x-python",
   "name": "python",
   "nbconvert_exporter": "python",
   "pygments_lexer": "ipython3",
   "version": "3.7.4"
  }
 },
 "nbformat": 4,
 "nbformat_minor": 2
}
