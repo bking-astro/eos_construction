{
 "cells": [
  {
   "cell_type": "code",
   "execution_count": 1,
   "metadata": {},
   "outputs": [],
   "source": [
    "import numpy as np\n",
    "import matplotlib.pyplot as plt\n",
    "import os\n",
    "import scipy.interpolate\n",
    "import seaborn as sns"
   ]
  },
  {
   "cell_type": "code",
   "execution_count": 11,
   "metadata": {},
   "outputs": [],
   "source": [
    "def maxM_array(dirpath):\n",
    "    numlist = []\n",
    "    num_mrl = 0\n",
    "\n",
    "    for file in os.listdir(dirpath):\n",
    "            if '.dat' in file:\n",
    "                numlist.append(int(file[:-4]))\n",
    "                num_mrl += 1\n",
    "    \n",
    "    maxM = np.zeros(num_mrl)\n",
    "\n",
    "    for i in range(num_mrl):\n",
    "        filename = os.path.join(dirpath, '{}.dat'.format(i))\n",
    "        MRL = np.loadtxt(filename)\n",
    "\n",
    "        maxM[i] = np.max(MRL[:,0])\n",
    "    \n",
    "    return maxM"
   ]
  },
  {
   "cell_type": "code",
   "execution_count": 27,
   "metadata": {},
   "outputs": [],
   "source": [
    "datapath = os.path.join('/Users', 'brendanking', 'Documents', 'LANL', 'eos_data')\n",
    "MRLdir_name = \"cs5MRL\"\n",
    "\n",
    "dirpath = os.path.join(datapath, MRLdir_name)\n",
    "\n",
    "maxM = maxM_array(dirpath)"
   ]
  },
  {
   "cell_type": "code",
   "execution_count": null,
   "metadata": {},
   "outputs": [],
   "source": [
    "filename = os.path.join(datapath, MRLdir_name, '{}.dat'.format(i))"
   ]
  },
  {
   "cell_type": "code",
   "execution_count": 28,
   "metadata": {},
   "outputs": [],
   "source": [
    "mass_thresh = 1.96\n",
    "index_list = []\n",
    "\n",
    "i=0\n",
    "for m in maxM:\n",
    "    if m >= mass_thresh:\n",
    "        index_list.append(i)\n",
    "    i+=1"
   ]
  },
  {
   "cell_type": "code",
   "execution_count": 30,
   "metadata": {},
   "outputs": [],
   "source": [
    "savepath = os.path.join(datapath, 'cs5MRL_198')\n",
    "\n",
    "for j, i in enumerate(index_list):\n",
    "    filename = os.path.join(datapath, MRLdir_name, '{}.dat'.format(i))\n",
    "    MRL = np.loadtxt(filename)\n",
    "    \n",
    "    savename = os.path.join(savepath, '{}.dat'.format(j))\n",
    "    np.savetxt(savename, MRL)"
   ]
  },
  {
   "cell_type": "code",
   "execution_count": null,
   "metadata": {},
   "outputs": [],
   "source": []
  }
 ],
 "metadata": {
  "kernelspec": {
   "display_name": "Python 3",
   "language": "python",
   "name": "python3"
  },
  "language_info": {
   "codemirror_mode": {
    "name": "ipython",
    "version": 3
   },
   "file_extension": ".py",
   "mimetype": "text/x-python",
   "name": "python",
   "nbconvert_exporter": "python",
   "pygments_lexer": "ipython3",
   "version": "3.8.5"
  }
 },
 "nbformat": 4,
 "nbformat_minor": 4
}
