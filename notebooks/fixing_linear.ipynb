{
 "cells": [
  {
   "cell_type": "code",
   "execution_count": 1,
   "metadata": {},
   "outputs": [],
   "source": [
    "import numpy as np\n",
    "import pandas as pd\n",
    "import os\n",
    "import EOS_extension_fixPlin\n",
    "import TOVsolver\n",
    "import matplotlib.pyplot as plt\n",
    "\n",
    "EOS_og = pd.read_table('data/EOSCEFTVE1.dat', header=None).to_numpy()\n",
    "\n",
    "keep = EOS_og[:,0] < 0.1601\n",
    "\n",
    "EOS_start = EOS_og[keep,:]"
   ]
  },
  {
   "cell_type": "code",
   "execution_count": 2,
   "metadata": {},
   "outputs": [],
   "source": [
    "def progress_statement(i, total):\n",
    "    if int(i*100/total) == 25 and int((i-1)*100/total) != 25:\n",
    "        print(\"The run is 25% complete\")\n",
    "        done_25=True\n",
    "    elif int(i*100/total) == 50 and int((i-1)*100/total) != 50:\n",
    "        print(\"The run is 50% complete\")\n",
    "        done_50=True\n",
    "    elif int(i*100/total) == 75 and int((i-1)*100/total) != 75:\n",
    "        print(\"The run is 75% complete\")\n",
    "        done_75=True\n",
    "    \n",
    "def filter_MRL(MRL_table, m_ub=5, r_lb=7):\n",
    "    raw_mass = MRL_table[:,0]\n",
    "    raw_radius = MRL_table[:,1]\n",
    "    raw_Lambda = MRL_table[:,2]\n",
    "    # create boolean arrays to test if points are good\n",
    "    m2big = raw_mass < m_ub\n",
    "    r2small = raw_radius > r_lb\n",
    "    # the bool array of points we will keep\n",
    "    keep = np.logical_and(m2big, r2small)\n",
    "    # define new arrays we will keep, this filters out erronious points in array\n",
    "    radius = raw_radius[keep]\n",
    "    mass = raw_mass[keep]\n",
    "    Lambda = raw_Lambda[keep]\n",
    "    \n",
    "    leng = len(radius) # get number of physical points\n",
    "    MRL = np.zeros((leng, 3)) # initialize MRL table\n",
    "    MRL[:,0], MRL[:,1], MRL[:,2] = mass, radius, Lambda # put into table\n",
    "    \n",
    "    return MRL\n",
    "\n",
    "def exclude_by_mass(MRL, maxm_lb=1.8, maxm_ub=4.1):\n",
    "    maxm = np.max(MRL[:,0])\n",
    "    if maxm < maxm_ub and maxm > maxm_lb:\n",
    "        MRL_passes = True\n",
    "    else:\n",
    "        MRL_passes = False\n",
    "    return MRL_passes\n",
    "\n",
    "def mkdirs(nsamp, ext_type, newsavename, datapath):\n",
    "    if newsavename==None:\n",
    "        EOSdir_name = ext_type+str(nsamp)+'EOS'\n",
    "        MRLdir_name = ext_type+str(nsamp)+'MRL'\n",
    "    else:\n",
    "        EOSdir_name = ext_type+str(nsamp)+'EOS'+newsavename\n",
    "        MRLdir_name = ext_type+str(nsamp)+'MRL'+newsavename\n",
    "    \n",
    "    if not(EOSdir_name in os.listdir(datapath)) and not(MRLdir_name in os.listdir(datapath)):\n",
    "        os.makedirs(datapath+EOSdir_name)\n",
    "        os.makedirs(datapath+MRLdir_name)\n",
    "        \n",
    "    return EOSdir_name, MRLdir_name\n",
    "\n",
    "def get_num_eos(dirpath):\n",
    "    numlist = []\n",
    "    for file in os.listdir(dirpath):\n",
    "        if '.dat' in file:\n",
    "            numlist.append(int(file[:-4]))\n",
    "    \n",
    "    if len(numlist) == 0:\n",
    "        num_eos = 0\n",
    "    else:\n",
    "        num_eos = max(numlist)\n",
    "        \n",
    "    return num_eos\n",
    "    \n",
    "\n",
    "def generate_tables(n_tables, EOS_start, nsamp_EOS, ext_type, MRL_size=100, maxm_thresh=1.8, newsavename=None):\n",
    "    datapath = os.getcwd() + \"/data/\" #where the data is stored\n",
    "    # make new directories with proper names\n",
    "    EOSdir_name, MRLdir_name = mkdirs(nsamp, ext_type, newsavename, datapath)\n",
    "    # returns number where\n",
    "    filenumstart = get_num_eos(datapath+EOSdir_name) + 1\n",
    "    i = 0\n",
    "    num_failed = 0\n",
    "    \n",
    "    # extend EOS and store parameters\n",
    "    while i < n_tables:\n",
    "        \n",
    "        if ext_type == 'poly':\n",
    "            EOS, ns, gammas, Ks = EOS_extension_fixPlin.extend(EOS_start, nsamp=nsamp_EOS,\n",
    "                                                            ext_type=ext_type, max_gamma=9)\n",
    "            param_string = \"ns =\" + str(ns) + ' gammas =' + str(gammas) + ' Ks =' + str(Ks)\n",
    "        else:\n",
    "            EOS, ns, cs = EOS_extension_fixPlin.extend(EOS_start, nsamp=nsamp_EOS, ext_type=ext_type)\n",
    "            param_string = \"ns =\" + str(ns) + ' cs =' + str(cs)\n",
    "        \n",
    "        MRL_table = TOVsolver.solve(EOS, MRL_size) #solve tov\n",
    "        # filter out erronious points\n",
    "        MRL = filter_MRL(MRL_table)\n",
    "        #check if maximum mass is realistic\n",
    "        MRL_inrange = exclude_by_mass(MRL, maxm_lb=maxm_thresh)\n",
    "        \n",
    "        if MRL_inrange == False:\n",
    "            num_failed += 1\n",
    "            i -= 1\n",
    "        else:\n",
    "            EOSname = datapath + EOSdir_name + '/' + str(filenumstart + i) + '.dat' # make names for file\n",
    "            MRLname = datapath + MRLdir_name + '/' + str(filenumstart + i) + '.dat'\n",
    "            np.savetxt(EOSname, EOS, header=param_string) # save files\n",
    "            np.savetxt(MRLname, MRL)\n",
    "        \n",
    "        progress_statement(i, total=n_tables)\n",
    "        i +=1\n",
    "        \n",
    "    print(str(num_failed)+' iterations failed for '+str(n_tables)+' successful tables.')"
   ]
  },
  {
   "cell_type": "code",
   "execution_count": 20,
   "metadata": {
    "scrolled": false
   },
   "outputs": [
    {
     "name": "stdout",
     "output_type": "stream",
     "text": [
      "The run is 25% complete\n",
      "The run is 50% complete\n",
      "The run is 75% complete\n",
      "58 iterations failed for 500 successful tables.\n"
     ]
    }
   ],
   "source": [
    "ntables = 500\n",
    "ext_type = \"lin\"\n",
    "nsamp = 15\n",
    "newsavename = None\n",
    "\n",
    "generate_tables(ntables, EOS_og, nsamp, ext_type, newsavename=newsavename)"
   ]
  },
  {
   "cell_type": "code",
   "execution_count": 21,
   "metadata": {},
   "outputs": [
    {
     "name": "stdout",
     "output_type": "stream",
     "text": [
      "The run is 25% complete\n",
      "The run is 50% complete\n",
      "The run is 75% complete\n",
      "58 iterations failed for 500 successful tables.\n"
     ]
    }
   ],
   "source": [
    "ntables = 500\n",
    "ext_type = \"lin\"\n",
    "nsamp = 15\n",
    "newsavename = None\n",
    "\n",
    "generate_tables(ntables, EOS_og, nsamp, ext_type, newsavename=newsavename)"
   ]
  },
  {
   "cell_type": "code",
   "execution_count": 24,
   "metadata": {},
   "outputs": [
    {
     "name": "stdout",
     "output_type": "stream",
     "text": [
      "saving file...\n"
     ]
    }
   ],
   "source": [
    "ext_type = \"lin\"\n",
    "nsamp = 15\n",
    "newsavename = None\n",
    "# to run single instances and specify name\n",
    "saveindex = 723\n",
    "\n",
    "datapath = os.getcwd() + \"/data/\" #where the data is stored\n",
    "# make new directories with proper names\n",
    "EOSdir_name, MRLdir_name = mkdirs(nsamp, ext_type, newsavename, datapath)\n",
    "\n",
    "EOS, ns, cs = EOS_extension_fixPlin.extend(EOS_og, nsamp=8, ext_type='lin')\n",
    "param_string = \"ns =\" + str(ns) + ' cs =' + str(cs)\n",
    "MRL_table = TOVsolver.solve(EOS, size=100) #solve tov\n",
    "# filter out erronious points\n",
    "MRL = filter_MRL(MRL_table)\n",
    "#check if maximum mass is realistic\n",
    "MRL_inrange = exclude_by_mass(MRL, maxm_lb=1.8)\n",
    "\n",
    "if MRL_inrange == True:\n",
    "    EOSname = datapath + EOSdir_name + '/' + str(saveindex) + '.dat' # make names for file\n",
    "    MRLname = datapath + MRLdir_name + '/' + str(saveindex) + '.dat'\n",
    "    np.savetxt(EOSname, EOS, header=param_string) # save files\n",
    "    np.savetxt(MRLname, MRL)\n",
    "    print(\"saving file...\")"
   ]
  },
  {
   "cell_type": "code",
   "execution_count": null,
   "metadata": {},
   "outputs": [],
   "source": []
  }
 ],
 "metadata": {
  "kernelspec": {
   "display_name": "Python 3",
   "language": "python",
   "name": "python3"
  },
  "language_info": {
   "codemirror_mode": {
    "name": "ipython",
    "version": 3
   },
   "file_extension": ".py",
   "mimetype": "text/x-python",
   "name": "python",
   "nbconvert_exporter": "python",
   "pygments_lexer": "ipython3",
   "version": "3.8.5"
  }
 },
 "nbformat": 4,
 "nbformat_minor": 4
}
