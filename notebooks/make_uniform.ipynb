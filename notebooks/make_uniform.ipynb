{
 "cells": [
  {
   "cell_type": "code",
   "execution_count": 1,
   "metadata": {},
   "outputs": [],
   "source": [
    "import numpy as np\n",
    "import pandas as pd\n",
    "import matplotlib.pyplot as plt\n",
    "import os\n",
    "import scipy.interpolate\n",
    "import random"
   ]
  },
  {
   "cell_type": "code",
   "execution_count": 2,
   "metadata": {},
   "outputs": [],
   "source": [
    "def get_r1p4(MRL_table):\n",
    "    max_index = np.argmax(MRL_table[:,0])\n",
    "    clipped_MRL = MRL_table[:max_index-1,:]\n",
    "        \n",
    "    diffMRL = np.ediff1d(clipped_MRL[:,0])\n",
    "    drop_in_m = np.argmax(diffMRL < 0) # index of first drop in mass\n",
    "    above_m = np.argmax(clipped_MRL[:,0]>clipped_MRL[drop_in_m,0])\n",
    "    \n",
    "    keep = np.zeros(clipped_MRL[:,0].shape[0], dtype=bool)\n",
    "    for i in range(clipped_MRL[:,0].shape[0]):\n",
    "        keep[i] = i < drop_in_m or i > above_m\n",
    "        \n",
    "    fixed_MRL = clipped_MRL[keep,:]\n",
    "    r_func = scipy.interpolate.CubicSpline(fixed_MRL[:,0], fixed_MRL[:,1])\n",
    "    r1p4 = r_func(1.4)\n",
    "    \n",
    "    return r1p4\n",
    "\n",
    "def sorted_r1p4(datapath, MRLdir_name):\n",
    "    numlist = []\n",
    "    num_mrl = 0\n",
    "\n",
    "    for file in os.listdir(datapath+MRLdir_name):\n",
    "            if '.dat' in file:\n",
    "                numlist.append(int(file[:-4]))\n",
    "                num_mrl += 1\n",
    "    \n",
    "    r1p4 = np.zeros((num_mrl,2))\n",
    "\n",
    "    for i in range(num_mrl):\n",
    "        file = datapath+MRLdir_name+'/'+str(i)+'.dat'\n",
    "        MRL = np.loadtxt(file)\n",
    "\n",
    "        r1p4[i,0] = get_r1p4(MRL)\n",
    "        r1p4[i,1] = i\n",
    "\n",
    "    sorted_index = np.argsort(r1p4[:,0])\n",
    "    r1p4_sort = r1p4[sorted_index,:]\n",
    "    \n",
    "    return r1p4_sort"
   ]
  },
  {
   "cell_type": "code",
   "execution_count": 4,
   "metadata": {},
   "outputs": [],
   "source": [
    "ext_type = 'cs'\n",
    "nsamp = 5\n",
    "newsavename = None\n",
    "\n",
    "if newsavename == None:\n",
    "    EOSdir_name = ext_type+str(nsamp)+'EOS'\n",
    "    MRLdir_name = ext_type+str(nsamp)+'MRL'\n",
    "    \n",
    "else:\n",
    "    EOSdir_name = ext_type+str(nsamp)+'EOS'+newsavename\n",
    "    MRLdir_name = ext_type+str(nsamp)+'MRL'+newsavename\n",
    "\n",
    "datapath = \"../../eos_data/\"\n",
    "\n",
    "numlist = []\n",
    "num_eos, num_mrl = 0, 0\n",
    "for file in os.listdir(datapath+EOSdir_name):\n",
    "        if '.dat' in file:\n",
    "            numlist.append(int(file[:-4]))\n",
    "            num_eos += 1\n",
    "            \n",
    "for file in os.listdir(datapath+MRLdir_name):\n",
    "        if '.dat' in file:\n",
    "            numlist.append(int(file[:-4]))\n",
    "            num_mrl += 1"
   ]
  },
  {
   "cell_type": "code",
   "execution_count": 5,
   "metadata": {},
   "outputs": [
    {
     "data": {
      "text/plain": [
       "(14707, 2)"
      ]
     },
     "execution_count": 5,
     "metadata": {},
     "output_type": "execute_result"
    }
   ],
   "source": [
    "r1p4 = np.zeros((num_eos,2))\n",
    "\n",
    "for i in range(num_eos):\n",
    "    file = datapath+MRLdir_name+'/'+str(i)+'.dat'\n",
    "    MRL = np.loadtxt(file)\n",
    "\n",
    "    r1p4[i,0] = get_r1p4(MRL)\n",
    "    r1p4[i,1] = i\n",
    "    \n",
    "sorted_index = np.argsort(r1p4[:,0])\n",
    "r1p4_sort = r1p4[sorted_index,:]\n",
    "\n",
    "r1p4_sort.shape"
   ]
  },
  {
   "cell_type": "code",
   "execution_count": 6,
   "metadata": {
    "scrolled": true
   },
   "outputs": [
    {
     "data": {
      "image/png": "[encoded data removed]",
      "text/plain": [
       "<Figure size 432x288 with 1 Axes>"
      ]
     },
     "metadata": {
      "needs_background": "light"
     },
     "output_type": "display_data"
    }
   ],
   "source": [
    "n_EOS = 2000\n",
    "n_bins = 50\n",
    "n_per_bin = int(n_EOS/n_bins)\n",
    "\n",
    "r_min = r1p4_sort[1,0]\n",
    "r_max = r1p4_sort[-1,0]\n",
    "delr = (r_max-r_min)/n_bins\n",
    "\n",
    "bins = np.arange(r_min, r_max, delr)\n",
    "\n",
    "counts,bin_starts,figure = plt.hist(r1p4_sort[:,0], bins=bins)"
   ]
  },
  {
   "cell_type": "code",
   "execution_count": 7,
   "metadata": {},
   "outputs": [
    {
     "name": "stdout",
     "output_type": "stream",
     "text": [
      "[9.48312466 9.49476629 9.51558651]\n"
     ]
    }
   ],
   "source": [
    "in_bin = np.logical_and(r1p4_sort[:,0]<=bins[1],r1p4_sort[:,0]>=bins[0])\n",
    "print(r1p4_sort[in_bin,0])"
   ]
  },
  {
   "cell_type": "code",
   "execution_count": 8,
   "metadata": {},
   "outputs": [
    {
     "data": {
      "text/plain": [
       "14614.0"
      ]
     },
     "execution_count": 8,
     "metadata": {},
     "output_type": "execute_result"
    }
   ],
   "source": [
    "np.sum(counts)"
   ]
  },
  {
   "cell_type": "code",
   "execution_count": 40,
   "metadata": {},
   "outputs": [],
   "source": [
    "fudge = 30\n",
    "uniform_r1p4 = np.empty((0,2))\n",
    "eff_n_per_bin = 51\n",
    "n_in_bin = np.zeros(n_bins)\n",
    "\n",
    "j=0\n",
    "# for i in range(n_bins-1):\n",
    "#     in_bin = np.logical_and(r1p4_sort[:,0]<=bins[i+1],r1p4_sort[:,0]>bins[i])\n",
    "#     r1p4_inbin = r1p4_sort[in_bin]\n",
    "#     count_in_bin = r1p4_inbin.shape[0]\n",
    "#     if r1p4_inbin.shape[0] < eff_n_per_bin:\n",
    "#         for ii in range(count_in_bin):\n",
    "#             uniform_r1p4[j,:] = r1p4_inbin[ii,:]\n",
    "#             j+=1\n",
    "\n",
    "#     elif count_in_bin >= eff_n_per_bin:\n",
    "#         for ii in range(eff_n_per_bin):\n",
    "#             uniform_r1p4[j,:] = r1p4_inbin[ii,:]\n",
    "#             j+=1\n",
    "#     n_in_bin[i] = ii\n",
    "\n",
    "for i in range(n_bins-1):\n",
    "    \n",
    "    in_bin = np.logical_and(r1p4_sort[:,0]<=bins[i+1],r1p4_sort[:,0]>bins[i])\n",
    "    sample_set = r1p4_sort[in_bin]\n",
    "    count_in_bin = r1p4_inbin.shape[0]\n",
    "    \n",
    "    if sample_set.shape[0] > eff_n_per_bin:\n",
    "        size = int(sample_set.shape[0])\n",
    "        zero2size = np.arange(0,size,1)\n",
    "        rints = np.random.choice(zero2size, size=eff_n_per_bin, replace=False)\n",
    "        in_sample = np.zeros(size, dtype=bool)\n",
    "        for j in range(size):\n",
    "            in_sample[j] = zero2size[j] in rints\n",
    "        sample = sample_set[in_sample,:]\n",
    "        \n",
    "        uniform_r1p4 = np.append(uniform_r1p4, sample, axis=0)\n",
    "        \n",
    "    else:\n",
    "        uniform_r1p4 = np.append(uniform_r1p4, sample_set, axis=0)"
   ]
  },
  {
   "cell_type": "code",
   "execution_count": 41,
   "metadata": {},
   "outputs": [],
   "source": [
    "# remove all the zeros from the uniform array\n",
    "\n",
    "num_entry = 0\n",
    "for r in uniform_r1p4[:,0]:\n",
    "    if r!=0:\n",
    "        num_entry +=1\n",
    "        \n",
    "fixed_uniform = np.zeros((num_entry,2))\n",
    "\n",
    "i = 0\n",
    "for r in uniform_r1p4[:,0]:\n",
    "    if r!=0:\n",
    "        fixed_uniform[i,:] = uniform_r1p4[i,:]\n",
    "        i+=1"
   ]
  },
  {
   "cell_type": "code",
   "execution_count": 42,
   "metadata": {},
   "outputs": [
    {
     "data": {
      "text/plain": [
       "<matplotlib.legend.Legend at 0x7fe4e2a11820>"
      ]
     },
     "execution_count": 42,
     "metadata": {},
     "output_type": "execute_result"
    },
    {
     "data": {
      "image/png": "[encoded data removed]",
      "text/plain": [
       "<Figure size 432x288 with 1 Axes>"
      ]
     },
     "metadata": {
      "needs_background": "light"
     },
     "output_type": "display_data"
    }
   ],
   "source": [
    "plt.hist(fixed_uniform[:,0], histtype='step', bins=100, label=\"n_bins=100\")\n",
    "plt.hist(fixed_uniform[:,0], histtype='step', bins=30, label=\"n_bins=30\")\n",
    "plt.hist(fixed_uniform[:,0], histtype='step', bins=50, label=\"n_bins=50\")\n",
    "plt.xlabel(r\"$R_{1.4}$\")\n",
    "plt.ylabel(\"Count\")\n",
    "plt.legend()"
   ]
  },
  {
   "cell_type": "code",
   "execution_count": 23,
   "metadata": {},
   "outputs": [
    {
     "data": {
      "text/plain": [
       "2012.0"
      ]
     },
     "execution_count": 23,
     "metadata": {},
     "output_type": "execute_result"
    }
   ],
   "source": [
    "np.sum(counts)"
   ]
  },
  {
   "cell_type": "code",
   "execution_count": 14,
   "metadata": {},
   "outputs": [
    {
     "data": {
      "text/plain": [
       "[<matplotlib.lines.Line2D at 0x7fe4e1037820>]"
      ]
     },
     "execution_count": 14,
     "metadata": {},
     "output_type": "execute_result"
    },
    {
     "data": {
      "image/png": "[encoded data removed]",
      "text/plain": [
       "<Figure size 432x288 with 1 Axes>"
      ]
     },
     "metadata": {
      "needs_background": "light"
     },
     "output_type": "display_data"
    }
   ],
   "source": [
    "plt.plot(range(0,n_EOS+fudge),uniform_r1p4[:,0], 'o')\n"
   ]
  },
  {
   "cell_type": "code",
   "execution_count": 15,
   "metadata": {},
   "outputs": [
    {
     "data": {
      "text/plain": [
       "[<matplotlib.lines.Line2D at 0x7fe4e13b2670>]"
      ]
     },
     "execution_count": 15,
     "metadata": {},
     "output_type": "execute_result"
    },
    {
     "data": {
      "image/png": "[encoded data removed]",
      "text/plain": [
       "<Figure size 432x288 with 1 Axes>"
      ]
     },
     "metadata": {
      "needs_background": "light"
     },
     "output_type": "display_data"
    }
   ],
   "source": [
    "n_min, n_max = 750, 800\n",
    "plt.plot(range(n_min,n_max),uniform_r1p4[n_min:n_max,0], 'o')"
   ]
  },
  {
   "cell_type": "code",
   "execution_count": 24,
   "metadata": {},
   "outputs": [
    {
     "data": {
      "text/plain": [
       "[<matplotlib.lines.Line2D at 0x7fe4e29e6f10>]"
      ]
     },
     "execution_count": 24,
     "metadata": {},
     "output_type": "execute_result"
    },
    {
     "data": {
      "image/png": "[encoded data removed]",
      "text/plain": [
       "<Figure size 432x288 with 1 Axes>"
      ]
     },
     "metadata": {
      "needs_background": "light"
     },
     "output_type": "display_data"
    }
   ],
   "source": [
    "plt.plot(range(0,n_bins),n_in_bin)"
   ]
  },
  {
   "cell_type": "markdown",
   "metadata": {},
   "source": [
    "## Save EOS"
   ]
  },
  {
   "cell_type": "code",
   "execution_count": 25,
   "metadata": {},
   "outputs": [],
   "source": [
    "j=0\n",
    "for i in uniform_r1p4[:,1]:\n",
    "    old_file = datapath+MRLdir_name+'/'+str(int(i))+'.dat'\n",
    "    MRL = np.loadtxt(old_file)\n",
    "\n",
    "    if not(MRLdir_name+\"_uniform\" in os.listdir(datapath)):\n",
    "        os.makedirs(datapath+MRLdir_name+\"_uniform\")\n",
    "\n",
    "    new_file = datapath+MRLdir_name+'_uniform/'+str(j)+'.dat'\n",
    "    np.savetxt(new_file, MRL)\n",
    "    j+=1"
   ]
  },
  {
   "cell_type": "code",
   "execution_count": 26,
   "metadata": {},
   "outputs": [],
   "source": [
    "j=0\n",
    "for i in uniform_r1p4[:,1]:\n",
    "    old_file = datapath+EOSdir_name+'/'+str(int(i))+'.dat'\n",
    "    EOS = np.loadtxt(old_file)\n",
    "    with open(old_file, 'r') as f:\n",
    "        header = f.readline()\n",
    "\n",
    "    if not(EOSdir_name+\"_uniform\" in os.listdir(datapath)):\n",
    "        os.makedirs(datapath+EOSdir_name+\"_uniform\")\n",
    "\n",
    "    new_file = datapath+EOSdir_name+'_uniform/'+str(j)+'.dat'\n",
    "    np.savetxt(new_file, EOS, header=header)\n",
    "    j+=1"
   ]
  },
  {
   "cell_type": "markdown",
   "metadata": {},
   "source": [
    "## True Uniform Distributions\n",
    "(drawing from all MRL sets)"
   ]
  },
  {
   "cell_type": "code",
   "execution_count": 45,
   "metadata": {},
   "outputs": [
    {
     "name": "stdout",
     "output_type": "stream",
     "text": [
      "9753.0\n",
      "24460.0\n",
      "27348.0\n"
     ]
    }
   ],
   "source": [
    "set_list = [[\"cs\",3,None],[\"cs\",5,None],[\"poly\",5,None]]\n",
    "r1p4_list = []\n",
    "\n",
    "datapath = \"../../eos_data/\"\n",
    "    \n",
    "indices = np.zeros(len(set_list)+1)\n",
    "\n",
    "i=0\n",
    "for item in set_list:\n",
    "    ext_type, nsamp, newsavename = item[0],item[1], item[2]\n",
    "    if newsavename == None:\n",
    "        MRLdir_name = ext_type+str(nsamp)+'MRL'\n",
    "    else:\n",
    "        MRLdir_name = ext_type+str(nsamp)+'MRL'+newsavename\n",
    "\n",
    "    r1p4_sort = sorted_r1p4(datapath, MRLdir_name)\n",
    "    r1p4_list.append([r1p4_sort, MRLdir_name])\n",
    "    \n",
    "    indices[i+1] = len(r1p4_sort[:,0]) + indices[i]\n",
    "    print(indices[i+1])\n",
    "    i+=1\n"
   ]
  },
  {
   "cell_type": "code",
   "execution_count": 46,
   "metadata": {},
   "outputs": [],
   "source": [
    "big_r1p4 = np.zeros((int(indices[-1]),2))\n",
    "\n",
    "ii=0\n",
    "for item in r1p4_list:\n",
    "    big_r1p4[int(indices[ii]):int(indices[ii+1]),0] = item[0][:,0]\n",
    "    \n",
    "    if item[1] == \"cs3MRL\":\n",
    "        big_r1p4[int(indices[ii]):int(indices[ii+1]),1] = item[0][:,1] -20000\n",
    "    elif item[1] == \"poly5MRL\":\n",
    "        big_r1p4[int(indices[ii]):int(indices[ii+1]),1] = item[0][:,1] +20000\n",
    "    else:\n",
    "        big_r1p4[int(indices[ii]):int(indices[ii+1]),1] = item[0][:,1]\n",
    "    \n",
    "    ii+=1\n",
    "    \n",
    "sorted_index = np.argsort(big_r1p4[:,0])\n",
    "big_r1p4_sort = big_r1p4[sorted_index,:]"
   ]
  },
  {
   "cell_type": "code",
   "execution_count": 47,
   "metadata": {},
   "outputs": [],
   "source": [
    "uniform_big_r1p4 = np.empty((0,2))\n",
    "eff_n_per_bin = 50\n",
    "\n",
    "j=0\n",
    "# for i in range(n_bins-1):\n",
    "#     in_bin = np.logical_and(big_r1p4_sort[:,0]<=bins[i+1],big_r1p4_sort[:,0]>=bins[i])\n",
    "#     r1p4_inbin = big_r1p4_sort[in_bin]\n",
    "#     count_in_bin = r1p4_inbin.shape[0]\n",
    "#     if r1p4_inbin.shape[0] < eff_n_per_bin:\n",
    "#         for ii in range(count_in_bin):\n",
    "#             uniform_big_r1p4[j,:] = r1p4_inbin[ii,:]\n",
    "#             j+=1\n",
    "\n",
    "#     elif count_in_bin >= eff_n_per_bin:\n",
    "#         for ii in range(eff_n_per_bin):\n",
    "#             uniform_big_r1p4[j,:] = r1p4_inbin[ii,:]\n",
    "#             j+=1\n",
    "            \n",
    "for i in range(n_bins-1):\n",
    "    \n",
    "    in_bin = np.logical_and(big_r1p4_sort[:,0]<=bins[i+1],big_r1p4_sort[:,0]>bins[i])\n",
    "    sample_set = big_r1p4_sort[in_bin]\n",
    "    count_in_bin = sample_set.shape[0]\n",
    "    \n",
    "    if sample_set.shape[0] > eff_n_per_bin:\n",
    "        size = int(sample_set.shape[0])\n",
    "        zero2size = np.arange(0,size,1)\n",
    "        rints = np.random.choice(zero2size, size=eff_n_per_bin, replace=False)\n",
    "        in_sample = np.zeros(size, dtype=bool)\n",
    "        for j in range(size):\n",
    "            in_sample[j] = zero2size[j] in rints\n",
    "        sample = sample_set[in_sample,:]\n",
    "        \n",
    "        uniform_big_r1p4 = np.append(uniform_big_r1p4, sample, axis=0)\n",
    "        \n",
    "    else:\n",
    "        uniform_big_r1p4 = np.append(uniform_big_r1p4, sample_set, axis=0)"
   ]
  },
  {
   "cell_type": "code",
   "execution_count": 52,
   "metadata": {},
   "outputs": [
    {
     "data": {
      "image/png": "[encoded data removed]",
      "text/plain": [
       "<Figure size 432x288 with 1 Axes>"
      ]
     },
     "metadata": {
      "needs_background": "light"
     },
     "output_type": "display_data"
    }
   ],
   "source": [
    "big_counts,_,_ = plt.hist(uniform_big_r1p4[:,0], bins=40, histtype='step')\n",
    "counts,_,_ = plt.hist(uniform_r1p4[:,0], bins=40, histtype='step')"
   ]
  },
  {
   "cell_type": "code",
   "execution_count": 49,
   "metadata": {},
   "outputs": [
    {
     "data": {
      "text/plain": [
       "[<matplotlib.lines.Line2D at 0x7fe4e0fdde80>]"
      ]
     },
     "execution_count": 49,
     "metadata": {},
     "output_type": "execute_result"
    },
    {
     "data": {
      "image/png": "[encoded data removed]",
      "text/plain": [
       "<Figure size 432x288 with 1 Axes>"
      ]
     },
     "metadata": {
      "needs_background": "light"
     },
     "output_type": "display_data"
    }
   ],
   "source": [
    "# checking to be sure my differentiation worked\n",
    "plt.plot(range(0,uniform_big_r1p4[:,1].shape[0]),uniform_big_r1p4[:,1], 'o')"
   ]
  },
  {
   "cell_type": "code",
   "execution_count": 89,
   "metadata": {},
   "outputs": [],
   "source": [
    "if not(\"MRL_uniform\" in os.listdir(datapath)):\n",
    "    os.makedirs(datapath+\"MRL_uniform\")\n",
    "\n",
    "j=0\n",
    "for i in uniform_big_r1p4[:,1]:\n",
    "    if i > 19999:\n",
    "        MRLdir_name = \"poly5MRL/\"\n",
    "        old_file = datapath+MRLdir_name+str(int(i-20000))+'.dat'\n",
    "        MRL = np.loadtxt(old_file)\n",
    "    elif i < -500:\n",
    "        MRLdir_name = \"cs3MRL/\"\n",
    "        old_file = datapath+MRLdir_name+str(int(i+20000))+'.dat'\n",
    "        MRL = np.loadtxt(old_file)\n",
    "    else:\n",
    "        MRLdir_name = \"cs5MRL/\"\n",
    "        old_file = datapath+MRLdir_name+str(int(i))+'.dat'\n",
    "        MRL = np.loadtxt(old_file)\n",
    "\n",
    "    new_file = datapath+'MRL_uniform/'+str(j)+'.dat'\n",
    "    np.savetxt(new_file, MRL)\n",
    "    j+=1"
   ]
  },
  {
   "cell_type": "code",
   "execution_count": 90,
   "metadata": {},
   "outputs": [],
   "source": [
    "j=0\n",
    "for i in uniform_r1p4[:,1]:\n",
    "    if i > 19999:\n",
    "        EOSdir_name = \"poly5EOS/\"\n",
    "        old_file = datapath+EOSdir_name+str(int(i-20000))+'.dat'\n",
    "    elif i < -500:\n",
    "        EOSdir_name = \"cs3EOS/\"\n",
    "        old_file = datapath+EOSdir_name+str(int(i+20000))+'.dat'\n",
    "    else:\n",
    "        EOSdir_name = \"cs5EOS/\"\n",
    "        old_file = datapath+EOSdir_name+str(int(i))+'.dat'\n",
    "\n",
    "    EOS = np.loadtxt(old_file)\n",
    "    with open(old_file, 'r') as f:\n",
    "        header = f.readline()\n",
    "\n",
    "    if not(\"EOS_uniform\" in os.listdir(datapath)):\n",
    "        os.makedirs(datapath+\"EOS_uniform\")\n",
    "\n",
    "    new_file = datapath+'EOS_uniform/'+str(j)+'.dat'\n",
    "    np.savetxt(new_file, EOS, header=header)\n",
    "    j+=1"
   ]
  },
  {
   "cell_type": "code",
   "execution_count": null,
   "metadata": {},
   "outputs": [],
   "source": []
  }
 ],
 "metadata": {
  "kernelspec": {
   "display_name": "Python 3",
   "language": "python",
   "name": "python3"
  },
  "language_info": {
   "codemirror_mode": {
    "name": "ipython",
    "version": 3
   },
   "file_extension": ".py",
   "mimetype": "text/x-python",
   "name": "python",
   "nbconvert_exporter": "python",
   "pygments_lexer": "ipython3",
   "version": "3.8.5"
  }
 },
 "nbformat": 4,
 "nbformat_minor": 4
}
