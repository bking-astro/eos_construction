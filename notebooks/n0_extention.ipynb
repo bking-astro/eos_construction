{
 "cells": [
  {
   "cell_type": "code",
   "execution_count": 1,
   "metadata": {},
   "outputs": [],
   "source": [
    "import numpy as np\n",
    "import pandas as pd\n",
    "import EOS_extension\n",
    "import TOVsolver\n",
    "import MR_generator\n",
    "import os\n",
    "import time"
   ]
  },
  {
   "cell_type": "code",
   "execution_count": 2,
   "metadata": {},
   "outputs": [],
   "source": [
    "EOS_og = pd.read_table('data/EOSCEFTVE1.dat', header=None).to_numpy()\n",
    "\n",
    "keep = EOS_og[:,0] < 0.1601\n",
    "\n",
    "EOS_start = EOS_og[keep,:]"
   ]
  },
  {
   "cell_type": "code",
   "execution_count": 4,
   "metadata": {},
   "outputs": [],
   "source": [
    "def generate_tables(number_tables, EOS_start, nsamp_EOS, ext_type, MRL_size=100, maxm_thresh=1.8, newsavename=None):\n",
    "    datapath = os.getcwd() + \"/data/\"\n",
    "    if newsavename == None:\n",
    "        EOSdir_name = ext_type+str(nsamp_EOS)+'EOS'\n",
    "        MRLdir_name = ext_type+str(nsamp_EOS)+'MRL'\n",
    "    else:\n",
    "        EOSdir_name = ext_type+str(nsamp_EOS)+'EOS'+newsavename\n",
    "        MRLdir_name = ext_type+str(nsamp_EOS)+'MRL'+newsavename\n",
    "    \n",
    "    if not(EOSdir_name in os.listdir(datapath)) and not(MRLdir_name in os.listdir(datapath)):\n",
    "        os.makedirs(datapath+EOSdir_name)\n",
    "        os.makedirs(datapath+MRLdir_name)\n",
    "        \n",
    "        \n",
    "    numlist = []\n",
    "    for file in os.listdir(datapath+EOSdir_name):\n",
    "        if '.dat' in file:\n",
    "            numlist.append(int(file[:-4]))\n",
    "    \n",
    "    if len(numlist) == 0:\n",
    "        filenumstart = 0\n",
    "    else:\n",
    "        filenumstart = max(numlist) + 1\n",
    "\n",
    "    i = 0\n",
    "    done_25 = False\n",
    "    done_50 = False\n",
    "    done_75 = False\n",
    "    num_failed = 0\n",
    "    while i < number_tables:\n",
    "        \n",
    "        if ext_type == 'poly':\n",
    "            EOS, ns, gammas, Ks = EOS_extension.extend(EOS_start, nsamp=nsamp_EOS,\n",
    "                                                            ext_type=ext_type, max_gamma=9)\n",
    "            param_string = \"ns =\" + str(ns) + ' gammas =' + str(gammas) + ' Ks =' + str(Ks)\n",
    "        else:\n",
    "            EOS, ns, cs = EOS_extension.extend(EOS_start, nsamp=nsamp_EOS, ext_type=ext_type)\n",
    "            param_string = \"ns =\" + str(ns) + ' cs =' + str(cs)\n",
    "        \n",
    "        # extend EOS and store parameters\n",
    "\n",
    "        MRL_table = TOVsolver.solve(EOS, MRL_size) #solve tov\n",
    "        raw_mass = MRL_table[:,0]\n",
    "        raw_radius = MRL_table[:,1]\n",
    "        raw_Lambda = MRL_table[:,2]\n",
    "        \n",
    "        # create boolean arrays to test if points are good\n",
    "        m2big = raw_mass < 4\n",
    "        r2small = raw_radius > 7\n",
    "        # the bool array of points we will keep\n",
    "        keep = np.logical_and(m2big, r2small)\n",
    "        # define new arrays we will keep\n",
    "        radius = raw_radius[keep]\n",
    "        mass = raw_mass[keep]\n",
    "        Lambda = raw_Lambda[keep]\n",
    "        \n",
    "        #check if maximum mass is realistic\n",
    "        maxm = np.max(raw_mass)\n",
    "        if maxm < maxm_thresh:\n",
    "#             print(\"maximum mass is too low\")\n",
    "            num_failed += 1\n",
    "            i -= 1\n",
    "        else:\n",
    "            leng = len(radius) # get number of physical points\n",
    "            MRL = np.zeros((leng, 3)) # initialize MRL table\n",
    "            MRL[:,0], MRL[:,1], MRL[:,2] = mass, radius, Lambda # put into table\n",
    "\n",
    "            EOSname = datapath + EOSdir_name + '/' + str(filenumstart + i) + '.dat' # make names for file\n",
    "            MRLname = datapath + MRLdir_name + '/' + str(filenumstart + i) + '.dat'\n",
    "            \n",
    "#             print(\"saving file...\")\n",
    "\n",
    "            np.savetxt(EOSname, EOS, header=param_string) # save files\n",
    "            np.savetxt(MRLname, MRL)\n",
    "    \n",
    "        \n",
    "        if i*100/number_tables > 25 and done_25==False:\n",
    "            print(\"The run is 25% complete\")\n",
    "            done_25=True\n",
    "        elif i*100/number_tables > 50 and done_50==False:\n",
    "            print(\"The run is 50% complete\")\n",
    "            done_50=True\n",
    "        elif i*100/number_tables > 75 and done_75==False:\n",
    "            print(\"The run is 75% complete\")\n",
    "            done_75=True\n",
    "        \n",
    "        i +=1\n",
    "    print(str(num_failed)+' iterations failed for '+str(number_tables)+' successful tables.')"
   ]
  },
  {
   "cell_type": "code",
   "execution_count": 12,
   "metadata": {},
   "outputs": [
    {
     "name": "stdout",
     "output_type": "stream",
     "text": [
      "The run is 25% complete\n",
      "The run is 50% complete\n",
      "The run is 75% complete\n",
      "512 iterations failed for 500 successful tables.\n"
     ]
    }
   ],
   "source": [
    "num_tables = 500\n",
    "nsamp = 5\n",
    "ext_type = 'cs'\n",
    "newsavename = '_n0'\n",
    "\n",
    "generate_tables(num_tables, EOS_start, nsamp, ext_type, newsavename=newsavename)"
   ]
  },
  {
   "cell_type": "code",
   "execution_count": 13,
   "metadata": {},
   "outputs": [
    {
     "name": "stdout",
     "output_type": "stream",
     "text": [
      "The run is 25% complete\n",
      "The run is 50% complete\n",
      "The run is 75% complete\n",
      "496 iterations failed for 500 successful tables.\n"
     ]
    }
   ],
   "source": [
    "num_tables = 500\n",
    "nsamp = 5\n",
    "ext_type = 'cs'\n",
    "newsavename = '_n0'\n",
    "\n",
    "generate_tables(num_tables, EOS_start, nsamp, ext_type, newsavename=newsavename)"
   ]
  },
  {
   "cell_type": "code",
   "execution_count": 10,
   "metadata": {},
   "outputs": [
    {
     "name": "stdout",
     "output_type": "stream",
     "text": [
      "The run is 25% complete\n",
      "The run is 50% complete\n",
      "The run is 75% complete\n",
      "336 iterations failed for 300 successful tables.\n"
     ]
    }
   ],
   "source": [
    "num_tables = 300\n",
    "nsamp = 5\n",
    "ext_type = 'cs'\n",
    "newsavename = '_n0'\n",
    "\n",
    "generate_tables(num_tables, EOS_start, nsamp, ext_type, newsavename=newsavename)"
   ]
  },
  {
   "cell_type": "code",
   "execution_count": 3,
   "metadata": {},
   "outputs": [],
   "source": [
    "import TOVsolver\n",
    "import pandas as pd\n",
    "n0 = 0.16 #MeV/fm^3\n",
    "\n",
    "n = EOS_start[:,0] \n",
    "p = EOS_start[:,1] \n",
    "e = EOS_start[:,2] \n",
    "\n",
    "# making cs=1 extention\n",
    "max_n = 10*n0\n",
    "n_step = 1e-3\n",
    "size = int((max_n-n[-1])/n_step)\n",
    "\n",
    "# initialize array\n",
    "EOS_ex = np.zeros((size, 3))\n",
    "# set starting values at n = n0\n",
    "EOS_ex[0,0] = n[-1]\n",
    "EOS_ex[0,1] = p[-1]\n",
    "EOS_ex[0,2] = e[-1]\n",
    "\n",
    "for k in range(size-1):\n",
    "    # n_i+1\n",
    "    EOS_ex[k+1,0] = EOS_ex[k,0] + n_step\n",
    "    # p_i+1 (set c_s = 1)\n",
    "    EOS_ex[k+1, 1] = EOS_ex[k, 1] + n_step * 1 * ((EOS_ex[k, 1] + EOS_ex[k, 2]) / EOS_ex[k, 0])\n",
    "    # e_i+1\n",
    "    EOS_ex[k+1,2] = EOS_ex[k,2] + n_step*((EOS_ex[k,1]+EOS_ex[k,2])/EOS_ex[k,0])\n",
    "\n",
    "# get relevant sizes\n",
    "size_smol = EOS_start.shape[0] -1 # -1 becuase we don't want last duplicated entry\n",
    "size_ex = EOS_ex.shape[0]\n",
    "\n",
    "# initialize array\n",
    "cs_eq1_EOS = np.zeros((size_smol+size_ex, EOS_start.shape[1]))\n",
    "\n",
    "cs_eq1_EOS[:size_smol,:] = EOS_start[:size_smol,:]\n",
    "cs_eq1_EOS[size_smol:,:] = EOS_ex[:,:]\n",
    "\n",
    "cs_eq1_MRL = TOVsolver.solve(cs_eq1_EOS, size=80)\n",
    "\n",
    "np.savetxt(os.getcwd() + \"/data/cs_eq1EOS_n0\", cs_eq1_EOS)\n",
    "np.savetxt(os.getcwd() + \"/data/cs_eq1MRL_n0\", cs_eq1_MRL)"
   ]
  },
  {
   "cell_type": "code",
   "execution_count": 14,
   "metadata": {},
   "outputs": [
    {
     "name": "stdout",
     "output_type": "stream",
     "text": [
      "4.086114839113669\n"
     ]
    }
   ],
   "source": [
    "maxm_n0 = np.max(cs_eq1_MRL[:,0])\n",
    "print(maxm_n0)"
   ]
  },
  {
   "cell_type": "code",
   "execution_count": null,
   "metadata": {},
   "outputs": [],
   "source": []
  }
 ],
 "metadata": {
  "kernelspec": {
   "display_name": "Python 3",
   "language": "python",
   "name": "python3"
  },
  "language_info": {
   "codemirror_mode": {
    "name": "ipython",
    "version": 3
   },
   "file_extension": ".py",
   "mimetype": "text/x-python",
   "name": "python",
   "nbconvert_exporter": "python",
   "pygments_lexer": "ipython3",
   "version": "3.8.5"
  }
 },
 "nbformat": 4,
 "nbformat_minor": 4
}
